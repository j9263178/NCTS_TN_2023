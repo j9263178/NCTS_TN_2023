{
 "cells": [
  {
   "cell_type": "code",
   "execution_count": 1,
   "id": "19426e59-e3ee-4137-8905-c6aaf711d48c",
   "metadata": {},
   "outputs": [
    {
     "name": "stdout",
     "output_type": "stream",
     "text": [
      "MKL interface code: 1 >> using [ilp64] interface\n"
     ]
    }
   ],
   "source": [
    "import cytnx"
   ]
  },
  {
   "cell_type": "markdown",
   "id": "facb8be3-764a-4d79-badf-98142854d7c4",
   "metadata": {
    "tags": []
   },
   "source": [
    "### Tensor initialization"
   ]
  },
  {
   "cell_type": "code",
   "execution_count": 2,
   "id": "b2c1fe0b-e2e7-47dc-af94-55481cdf73f5",
   "metadata": {},
   "outputs": [
    {
     "name": "stdout",
     "output_type": "stream",
     "text": [
      "\n",
      "Total elem: 24\n",
      "type  : Double (Float64)\n",
      "cytnx device: CPU\n",
      "Shape : (2,3,4)\n",
      "[[[0.00000e+00 0.00000e+00 0.00000e+00 0.00000e+00 ]\n",
      "  [0.00000e+00 0.00000e+00 0.00000e+00 0.00000e+00 ]\n",
      "  [0.00000e+00 0.00000e+00 0.00000e+00 0.00000e+00 ]]\n",
      " [[0.00000e+00 0.00000e+00 0.00000e+00 0.00000e+00 ]\n",
      "  [0.00000e+00 0.00000e+00 0.00000e+00 0.00000e+00 ]\n",
      "  [0.00000e+00 0.00000e+00 0.00000e+00 0.00000e+00 ]]]\n",
      "\n",
      "\n",
      "\n"
     ]
    }
   ],
   "source": [
    "# Create a rank-3 tensor with shape [2,3,4], filled with zeros.\n",
    "T1 = cytnx.zeros([2,3,4])\n",
    "print(T1)"
   ]
  },
  {
   "cell_type": "markdown",
   "id": "c4879015-88ec-4692-b953-e6aa7b2714e3",
   "metadata": {
    "tags": []
   },
   "source": [
    "### UniTensor initialization"
   ]
  },
  {
   "cell_type": "code",
   "execution_count": 3,
   "id": "60771a43-43af-4f0a-a2cb-dbeaf9545902",
   "metadata": {},
   "outputs": [
    {
     "name": "stdout",
     "output_type": "stream",
     "text": [
      "-------- start of print ---------\n",
      "Tensor name: \n",
      "is_diag    : False\n",
      "contiguous : True\n",
      "\n",
      "Total elem: 24\n",
      "type  : Double (Float64)\n",
      "cytnx device: CPU\n",
      "Shape : (2,3,4)\n",
      "[[[0.00000e+00 0.00000e+00 0.00000e+00 0.00000e+00 ]\n",
      "  [0.00000e+00 0.00000e+00 0.00000e+00 0.00000e+00 ]\n",
      "  [0.00000e+00 0.00000e+00 0.00000e+00 0.00000e+00 ]]\n",
      " [[0.00000e+00 0.00000e+00 0.00000e+00 0.00000e+00 ]\n",
      "  [0.00000e+00 0.00000e+00 0.00000e+00 0.00000e+00 ]\n",
      "  [0.00000e+00 0.00000e+00 0.00000e+00 0.00000e+00 ]]]\n",
      "\n",
      "\n",
      "\n",
      "\n"
     ]
    }
   ],
   "source": [
    "# Create a rank-3 tensor with shape [2,3,4], filled with zeros.\n",
    "T1 = cytnx.zeros([2,3,4])\n",
    "\n",
    "# Create a rank-3 UniTensor with shape [2,3,4], filled with zeros.\n",
    "UT1 = cytnx.UniTensor(Tin = T1)\n",
    "\n",
    "print(UT1)"
   ]
  },
  {
   "cell_type": "markdown",
   "id": "0acac3b7-156e-4ebc-b210-0db05f1a6091",
   "metadata": {
    "tags": []
   },
   "source": [
    "### Assign element to a UniTensor"
   ]
  },
  {
   "cell_type": "code",
   "execution_count": 4,
   "id": "b73aaec0-02fa-43bf-bd7f-1a44af5ee6f5",
   "metadata": {},
   "outputs": [
    {
     "name": "stdout",
     "output_type": "stream",
     "text": [
      "-------- start of print ---------\n",
      "Tensor name: \n",
      "is_diag    : False\n",
      "contiguous : True\n",
      "\n",
      "Total elem: 24\n",
      "type  : Double (Float64)\n",
      "cytnx device: CPU\n",
      "Shape : (2,3,4)\n",
      "[[[1.00000e+00 0.00000e+00 0.00000e+00 0.00000e+00 ]\n",
      "  [0.00000e+00 0.00000e+00 0.00000e+00 0.00000e+00 ]\n",
      "  [0.00000e+00 0.00000e+00 0.00000e+00 0.00000e+00 ]]\n",
      " [[0.00000e+00 0.00000e+00 0.00000e+00 0.00000e+00 ]\n",
      "  [0.00000e+00 0.00000e+00 0.00000e+00 0.00000e+00 ]\n",
      "  [0.00000e+00 0.00000e+00 0.00000e+00 0.00000e+00 ]]]\n",
      "\n",
      "\n",
      "\n",
      "\n"
     ]
    }
   ],
   "source": [
    "# Create a rank-3 tensor with shape [2,3,4], filled with zeros.\n",
    "T1 = cytnx.zeros([2,3,4])\n",
    "\n",
    "# Create a rank-3 UniTensor with shape [2,3,4], filled with zeros.\n",
    "UT1 = cytnx.UniTensor(Tin = T1)\n",
    "UT1.get_block_()[0,0,0] = 1 \n",
    "print(UT1)"
   ]
  },
  {
   "cell_type": "markdown",
   "id": "ee1c164e-3102-4e10-9c04-b34a8a9dbc04",
   "metadata": {
    "tags": []
   },
   "source": [
    "### Assign tensor to a UniTensor"
   ]
  },
  {
   "cell_type": "code",
   "execution_count": 5,
   "id": "0a73ff2e-68b8-42df-a3d5-96da58f1fb0f",
   "metadata": {},
   "outputs": [
    {
     "name": "stdout",
     "output_type": "stream",
     "text": [
      "-------- start of print ---------\n",
      "Tensor name: \n",
      "is_diag    : False\n",
      "contiguous : True\n",
      "\n",
      "Total elem: 24\n",
      "type  : Double (Float64)\n",
      "cytnx device: CPU\n",
      "Shape : (2,3,4)\n",
      "[[[0.00000e+00 0.00000e+00 0.00000e+00 0.00000e+00 ]\n",
      "  [0.00000e+00 0.00000e+00 0.00000e+00 0.00000e+00 ]\n",
      "  [0.00000e+00 0.00000e+00 0.00000e+00 0.00000e+00 ]]\n",
      " [[0.00000e+00 0.00000e+00 0.00000e+00 0.00000e+00 ]\n",
      "  [0.00000e+00 0.00000e+00 0.00000e+00 0.00000e+00 ]\n",
      "  [0.00000e+00 0.00000e+00 0.00000e+00 0.00000e+00 ]]]\n",
      "\n",
      "\n",
      "\n",
      "\n",
      "-------- start of print ---------\n",
      "Tensor name: \n",
      "is_diag    : False\n",
      "contiguous : True\n",
      "\n",
      "Total elem: 24\n",
      "type  : Double (Float64)\n",
      "cytnx device: CPU\n",
      "Shape : (2,3,4)\n",
      "[[[1.00000e+00 1.00000e+00 1.00000e+00 1.00000e+00 ]\n",
      "  [1.00000e+00 1.00000e+00 1.00000e+00 1.00000e+00 ]\n",
      "  [1.00000e+00 1.00000e+00 1.00000e+00 1.00000e+00 ]]\n",
      " [[1.00000e+00 1.00000e+00 1.00000e+00 1.00000e+00 ]\n",
      "  [1.00000e+00 1.00000e+00 1.00000e+00 1.00000e+00 ]\n",
      "  [1.00000e+00 1.00000e+00 1.00000e+00 1.00000e+00 ]]]\n",
      "\n",
      "\n",
      "\n",
      "\n"
     ]
    }
   ],
   "source": [
    "# Create a rank-3 tensor with shape [2,3,4], filled with zeros.\n",
    "T1 = cytnx.zeros([2,3,4])\n",
    "\n",
    "# Create a rank-3 tensor with shape [2,3,4], filled with zeros.\n",
    "T2 = cytnx.ones([2,3,4])\n",
    "\n",
    "# Create a rank-3 UniTensor with shape [2,3,4], filled with zeros.\n",
    "UT1 = cytnx.UniTensor(Tin = T1)\n",
    "print(UT1)\n",
    "\n",
    "UT1.put_block_(T2)\n",
    "print(UT1)"
   ]
  },
  {
   "cell_type": "markdown",
   "id": "d7133d6f-84bb-4f94-9495-2435ec84837f",
   "metadata": {
    "tags": []
   },
   "source": [
    "### Labels of a UniTensor"
   ]
  },
  {
   "cell_type": "code",
   "execution_count": 6,
   "id": "de73ff51-f30a-4c99-ba4a-9d63a6651253",
   "metadata": {},
   "outputs": [
    {
     "name": "stdout",
     "output_type": "stream",
     "text": [
      "default labels:  ['0', '1', '2']\n",
      "labels after setting :  ['a', 'b', 'c']\n"
     ]
    }
   ],
   "source": [
    "# Create a rank-3 UniTensor with shape [2,3,4], filled with zeros.\n",
    "UT1 = cytnx.UniTensor(Tin = cytnx.zeros([2,3,4]))\n",
    "\n",
    "print(\"default labels: \", UT1.labels())\n",
    "\n",
    "# Setting label to UT1\n",
    "UT1.set_labels([\"a\",\"b\",\"c\"])\n",
    "\n",
    "print(\"labels after setting : \", UT1.labels())"
   ]
  },
  {
   "cell_type": "markdown",
   "id": "a94bfff9-b422-4bd9-b428-7f3274034c80",
   "metadata": {},
   "source": [
    "<img src=\"figures/pre2.png\" alt=\"drawing\" width=\"600\"/>"
   ]
  },
  {
   "cell_type": "markdown",
   "id": "9469a422-dc77-425e-9ac8-fec81d5d3721",
   "metadata": {
    "tags": []
   },
   "source": [
    "### Permute a UniTensor "
   ]
  },
  {
   "cell_type": "code",
   "execution_count": 7,
   "id": "2582f6fe-f90b-4f96-b33d-5b7624ca46ec",
   "metadata": {},
   "outputs": [
    {
     "name": "stdout",
     "output_type": "stream",
     "text": [
      "Shape before the permutation :  [2, 3, 4]\n",
      "Shape after the permutation :  [4, 3, 2]\n",
      "label before the permutation :  ['a', 'b', 'c']\n",
      "label after the permutation :  ['c', 'b', 'a']\n"
     ]
    }
   ],
   "source": [
    "# Create a rank-3 UniTensor with shape [2,3,4], filled with zeros.\n",
    "UT1 = cytnx.UniTensor(Tin = cytnx.zeros([2,3,4]))\n",
    "\n",
    "# Setting label to UT1\n",
    "UT1.set_labels([\"a\",\"b\",\"c\"])\n",
    "\n",
    "# Permute T1\n",
    "UT1_p = UT1.permute([2,1,0])\n",
    "\n",
    "print(\"Shape before the permutation : \", UT1.shape())\n",
    "print(\"Shape after the permutation : \", UT1_p.shape())\n",
    "\n",
    "print(\"label before the permutation : \", UT1.labels())\n",
    "print(\"label after the permutation : \", UT1_p.labels())"
   ]
  },
  {
   "cell_type": "markdown",
   "id": "bb28e582-c38e-49b8-8006-59802552dc16",
   "metadata": {},
   "source": [
    "<img src=\"figures/pre3.png\" alt=\"drawing\" width=\"600\"/>"
   ]
  },
  {
   "cell_type": "markdown",
   "id": "c647dda4-429a-4528-81e7-c720b65bf433",
   "metadata": {
    "tags": []
   },
   "source": [
    "### Reshape a UniTensor"
   ]
  },
  {
   "cell_type": "code",
   "execution_count": 13,
   "id": "903cde81-c2b1-4244-b5cc-8100463bae8e",
   "metadata": {},
   "outputs": [
    {
     "name": "stdout",
     "output_type": "stream",
     "text": [
      "Shape before reshaping :  [2, 3, 4]\n",
      "Shape after reshaping :  [6, 4]\n",
      "['0', '1']\n"
     ]
    }
   ],
   "source": [
    "# Create a rank-3 UniTensor with shape [2,3,4], filled with zeros.\n",
    "UT1 = cytnx.UniTensor(Tin = cytnx.zeros([2,3,4]))\n",
    "UT1_r = UT1.reshape(6,4)\n",
    "\n",
    "print(\"Shape before reshaping : \", UT1.shape())\n",
    "print(\"Shape after reshaping : \", UT1_r.shape())"
   ]
  },
  {
   "cell_type": "markdown",
   "id": "db73d686-cf18-4493-bca3-eb19354fa59e",
   "metadata": {},
   "source": [
    "<img src=\"figures/pre4.png\" alt=\"drawing\" width=\"600\"/>"
   ]
  },
  {
   "cell_type": "markdown",
   "id": "f61b66f1-6399-490b-8b93-436383f6362f",
   "metadata": {
    "tags": []
   },
   "source": [
    "### Rank-2 UniTensor Decomposition"
   ]
  },
  {
   "cell_type": "code",
   "execution_count": 14,
   "id": "719eabbf-a14b-4ba6-8969-68c3497fc697",
   "metadata": {},
   "outputs": [
    {
     "name": "stdout",
     "output_type": "stream",
     "text": [
      "label of UT1 :  ['a', 'b']\n",
      "label of s :  ['_aux_L', '_aux_R']\n",
      "label of u :  ['a', '_aux_L']\n",
      "label of vt :  ['_aux_R', 'b']\n"
     ]
    }
   ],
   "source": [
    "# Create a rank-2 UniTensor with shape [2,3,4], filled with zeros.\n",
    "UT1 = cytnx.UniTensor(Tin = cytnx.zeros([3,3]))\n",
    "\n",
    "UT1.set_labels([\"a\",\"b\"])\n",
    "\n",
    "# Do SVD decomposition to UT1\n",
    "s,u,vt = cytnx.linalg.Svd(UT1)\n",
    "\n",
    "print(\"label of UT1 : \", UT1.labels()) \n",
    "print(\"label of s : \", s.labels())\n",
    "print(\"label of u : \", u.labels())\n",
    "print(\"label of vt : \", vt.labels())"
   ]
  },
  {
   "cell_type": "markdown",
   "id": "47b588da-cd5a-45c4-8f7d-e6723bb5c04e",
   "metadata": {},
   "source": [
    "<img src=\"figures/pre5.png\" alt=\"drawing\" width=\"600\"/>"
   ]
  },
  {
   "cell_type": "markdown",
   "id": "9fa6d5ec-0458-463e-8566-a720b6e7e78f",
   "metadata": {
    "tags": []
   },
   "source": [
    "### Rank-3 UniTensor Decomposition"
   ]
  },
  {
   "cell_type": "code",
   "execution_count": 10,
   "id": "0774904a-b0f3-416a-a368-eed7fb1605d6",
   "metadata": {},
   "outputs": [
    {
     "name": "stdout",
     "output_type": "stream",
     "text": [
      "label of UT1 :  ['0', '1', '2']\n",
      "label of s :  ['_aux_L', '_aux_R']\n",
      "label of u :  ['0', '1', '_aux_L']\n",
      "label of vt :  ['_aux_R', '2']\n",
      "-----------------------\n",
      "label of UT1 :  ['0', '1', '2']\n",
      "label of s :  ['_aux_L', '_aux_R']\n",
      "label of u :  ['0', '_aux_L']\n",
      "label of vt :  ['_aux_R', '1', '2']\n"
     ]
    }
   ],
   "source": [
    "# Create a rank-3 UniTensor with shape [2,3,4], filled with zeros.\n",
    "UT1 = cytnx.UniTensor(Tin = cytnx.zeros([2,3,4]))\n",
    "\n",
    "UT1.set_labels([\"a\",\"b\",\"c\"])\n",
    "\n",
    "# Setting rowrank=2 for the UT1\n",
    "UT1.set_rowrank(2)\n",
    "s,u,vt = cytnx.linalg.Svd(UT1)\n",
    "\n",
    "print(\"label of UT1 : \", UT1.labels()) \n",
    "print(\"label of s : \", s.labels())\n",
    "print(\"label of u : \", u.labels())\n",
    "print(\"label of vt : \", vt.labels())\n",
    "\n",
    "print(\"-----------------------\")\n",
    "# Setting rowrank=1 for the UT1\n",
    "UT1.set_rowrank(1)\n",
    "s,u,vt = cytnx.linalg.Svd(UT1)\n",
    "print(\"label of UT1 : \", UT1.labels()) \n",
    "print(\"label of s : \", s.labels())\n",
    "print(\"label of u : \", u.labels())\n",
    "print(\"label of vt : \", vt.labels())"
   ]
  },
  {
   "cell_type": "markdown",
   "id": "fe542798-ac9c-402d-b071-cab07734ccc3",
   "metadata": {},
   "source": [
    "<img src=\"figures/pre6.png\" alt=\"drawing\" width=\"600\"/>"
   ]
  },
  {
   "cell_type": "markdown",
   "id": "eb7b480d-f93c-4632-8802-82b48e773a89",
   "metadata": {
    "tags": []
   },
   "source": [
    "### Contract two UniTensors"
   ]
  },
  {
   "cell_type": "code",
   "execution_count": 11,
   "id": "c9393fa1-a2fe-4f10-b4d7-f845ae503e3d",
   "metadata": {},
   "outputs": [
    {
     "name": "stdout",
     "output_type": "stream",
     "text": [
      "shape of the UT1 :　 [2, 3, 4]\n",
      "labels of the UT1 :　 ['a', 'b', 'c']\n",
      "shape of the UT2 :　 [2, 5, 6]\n",
      "labels of the UT2 :  ['a', 'd', 'e']\n",
      "shape of the UT3 :  [3, 4, 5, 6]\n",
      "labels of the UT3 :  ['b', 'c', 'd', 'e']\n"
     ]
    }
   ],
   "source": [
    "# Create a rank-3 UniTensor with shape [2,3,4], filled with zeros.\n",
    "UT1 = cytnx.UniTensor(Tin = cytnx.zeros([2,3,4]))\n",
    "\n",
    "# Setting label to UT1\n",
    "UT1.set_labels([\"a\",\"b\",\"c\"])\n",
    "\n",
    "# Create a rank-3 UniTensor with shape [2,5,6], filled with zeros.\n",
    "UT2 = cytnx.UniTensor(Tin = cytnx.zeros([2,5,6]))\n",
    "\n",
    "# Setting label to UT1\n",
    "UT2.set_labels([\"a\",\"d\",\"e\"])\n",
    "\n",
    "# Contract UT1 and UT2 and call it UT3\n",
    "UT3 = cytnx.Contract(UT1, UT2)\n",
    "\n",
    "print(\"shape of the UT1 :　\", UT1.shape())\n",
    "print(\"labels of the UT1 :　\", UT1.labels())\n",
    "print(\"shape of the UT2 :　\", UT2.shape())\n",
    "print(\"labels of the UT2 : \", UT2.labels())\n",
    "print(\"shape of the UT3 : \", UT3.shape())\n",
    "print(\"labels of the UT3 : \", UT3.labels())"
   ]
  },
  {
   "cell_type": "markdown",
   "id": "fcc5e4fc-d76d-4f6a-a55e-79e96f82d847",
   "metadata": {
    "tags": []
   },
   "source": [
    "### Contract many UniTensors (Network)"
   ]
  },
  {
   "cell_type": "code",
   "execution_count": 12,
   "id": "b6cf8e56-2fce-4537-9e0d-6245527f60d4",
   "metadata": {},
   "outputs": [
    {
     "name": "stdout",
     "output_type": "stream",
     "text": [
      "shape of the UT4 :  [4, 5, 6]\n",
      "labels of the UT4 :  ['c', 'e', 'f']\n"
     ]
    }
   ],
   "source": [
    "# Create a rank-3 UniTensor with shape [2,3,4], filled with zeros.\n",
    "UT1 = cytnx.UniTensor(Tin = cytnx.zeros([2,3,4]))\n",
    "\n",
    "# Create a rank-3 UniTensor with shape [2,3,4], filled with zeros.\n",
    "UT2 = cytnx.UniTensor(Tin = cytnx.zeros([2,3,4]))\n",
    "\n",
    "# Create a rank-3 UniTensor with shape [4,5,6], filled with zeros.\n",
    "UT3 = cytnx.UniTensor(Tin = cytnx.zeros([4,5,6]))\n",
    "\n",
    "# Create and define a network.\n",
    "net = cytnx.Network()\n",
    "net.FromString([\"UT1: a,b,c\",\n",
    "                 \"UT2: a,b,d\",\n",
    "                 \"UT3: d,e,f\",\n",
    "                 \"TOUT: c;e,f\"])\n",
    "\n",
    "# Put UniTensors in\n",
    "net.PutUniTensors ([\"UT1\",\"UT2\",\"UT3\"],[UT1,UT2,UT3])\n",
    "\n",
    "# Launch the network to do the contraction\n",
    "UT4 = net.Launch()\n",
    "\n",
    "print(\"shape of the UT4 : \", UT4.shape())\n",
    "print(\"labels of the UT4 : \", UT4.labels())"
   ]
  },
  {
   "cell_type": "markdown",
   "id": "f51ca3cb-7a86-4746-b1a8-5d36056d9c9e",
   "metadata": {},
   "source": [
    "<img src=\"figures/pre7.png\" alt=\"drawing\" width=\"600\"/>"
   ]
  },
  {
   "cell_type": "code",
   "execution_count": null,
   "id": "0e0affb1-577f-407b-888c-709fcba91420",
   "metadata": {},
   "outputs": [],
   "source": []
  }
 ],
 "metadata": {
  "kernelspec": {
   "display_name": "Python 3 (ipykernel)",
   "language": "python",
   "name": "python3"
  },
  "language_info": {
   "codemirror_mode": {
    "name": "ipython",
    "version": 3
   },
   "file_extension": ".py",
   "mimetype": "text/x-python",
   "name": "python",
   "nbconvert_exporter": "python",
   "pygments_lexer": "ipython3",
   "version": "3.9.17"
  }
 },
 "nbformat": 4,
 "nbformat_minor": 5
}
