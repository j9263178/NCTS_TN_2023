{
 "cells": [
  {
   "cell_type": "code",
   "execution_count": 2,
   "id": "72d1ef34-f9d1-4169-be00-4e357a8b396d",
   "metadata": {},
   "outputs": [],
   "source": [
    "import os\n",
    "os.environ[\"OMP_NUM_THREADS\"] = \"1\""
   ]
  },
  {
   "cell_type": "code",
   "execution_count": 3,
   "id": "a88f1cb0-eb8a-45fd-a395-1e4aa2e9147b",
   "metadata": {},
   "outputs": [],
   "source": [
    "import sys\n",
    "from pathlib import Path\n",
    "home = str(Path.home())\n",
    "sys.path.append(home + '/Cytnx_lib')\n",
    "import cytnx\n",
    "import numpy as np\n",
    "import scipy as sp\n",
    "from scipy import linalg\n",
    "import matplotlib.pyplot as plt"
   ]
  },
  {
   "cell_type": "markdown",
   "id": "a1f75224-fc39-403d-b370-19d7f76ad904",
   "metadata": {
    "tags": []
   },
   "source": [
    "# Time evolve an MPS by time-evolution block-decimation (TEBD)\n",
    "#### Consider a Hamiltonian that contains only two-site terms\n",
    "#### $$ \\hat{H} = \\sum_{i=1}^{N-1} \\hat{\\mathcal{H}}_{i,i+1}. $$\n",
    "#### The time-evolution operator $e^{-i\\delta_t\\hat{H}}$ for a small time step $\\delta_t$ can be approximately decomposed to\n",
    "#### $$ e^{-i\\delta_t\\hat{H}} \\approx\n",
    "        \\left[ e^{-i\\delta_t\\hat{\\mathcal{H}}_{1,2}} e^{-i\\delta_t\\hat{\\mathcal{H}}_{2,3}} \\cdots e^{-i\\delta_t\\hat{\\mathcal{H}}_{N-1,N}} \\right]\n",
    "        \\left[e^{-i\\delta_t\\hat{\\mathcal{H}}_{N-1,N}} \\cdots e^{-i\\delta_t\\hat{\\mathcal{H}}_{2,3}} e^{-i\\delta_t\\hat{\\mathcal{H}}_{1,2}} \\right]\n",
    "        + \\mathcal{O}(\\delta_t^3),$$\n",
    "#### where each $e^{-i\\delta_t\\hat{\\mathcal{H}}_{i,i+1}}$ is a two-site operator.\n"
   ]
  },
  {
   "cell_type": "markdown",
   "id": "9614df74-9989-4f18-aabc-a3ee430819cf",
   "metadata": {
    "tags": []
   },
   "source": [
    "## 1. Define the time-evolution operators"
   ]
  },
  {
   "cell_type": "markdown",
   "id": "aa65c3a9-bcef-4578-98d8-93b7c2efe0be",
   "metadata": {
    "tags": []
   },
   "source": [
    "### 1.1 Define operators\n",
    "#### $$ \\hat{S}^{z}=\\frac{1}{2}\\left[\\begin{array}{cc}\n",
    "1 & 0\\\\\n",
    "0 & -1\n",
    "\\end{array}\\right]\n",
    ", \\qquad\n",
    "\\hat{S}^{x}=\\frac{1}{2}\\left[\\begin{array}{cc}\n",
    "0 & 1\\\\\n",
    "1 & 0\n",
    "\\end{array}\\right]\n",
    ", \\qquad\n",
    "\\hat{I}=\\left[\\begin{array}{cc}\n",
    "1 & 0\\\\\n",
    "0 & 1\n",
    "\\end{array}\\right]\n",
    "$$"
   ]
  },
  {
   "cell_type": "code",
   "execution_count": 4,
   "id": "69646795-808c-4451-b6be-f7a96c6e4a7e",
   "metadata": {},
   "outputs": [],
   "source": [
    "Sx = 2*cytnx.physics.spin(0.5,'x').real()      # Sx\n",
    "Sz = 2*cytnx.physics.spin(0.5,'z').real()      # Sz\n",
    "I = cytnx.eye(2)                               # Identity operator"
   ]
  },
  {
   "cell_type": "markdown",
   "id": "3e23a764-7e2b-4e37-83c1-78cc685ac5d4",
   "metadata": {
    "tags": []
   },
   "source": [
    "### 1.2 Define time-evolution operator $e^{-i\\delta_t\\hat{\\mathcal{H}}_{i,i+1}}$"
   ]
  },
  {
   "cell_type": "markdown",
   "id": "8cb5b117-96bb-4b2d-ad63-6cc1e211ca0c",
   "metadata": {},
   "source": [
    "#### We consider transverse-field Ising model\n",
    "#### $$ \\begin{aligned}\n",
    "H &= -J\\sum_{i=1}^{N-1} \\hat{S}^x_i\\hat{S}^x_{i+1} - h_x\\sum_{i=1}^N \\hat{S}^z_i\\\\\n",
    "&= \\sum_{i=1}^{N-1} \\hat{\\mathcal{H}}_{i,i+1},\n",
    "\\end{aligned}$$\n",
    "#### where $$ \\mathcal{\\hat{H}}_{i,i+1}=-J\\hat{S}_{i}^{x}\\hat{S}_{i+1}^{x}-h_{x}\\begin{cases}\n",
    "\\hat{S}_{i}^{z} & ,i\\neq N-1\\\\\n",
    "\\left(\\hat{S}_{i}^{z}+\\hat{S}_{i+1}^{z}\\right) & ,i=N-1.\n",
    "\\end{cases}$$\n",
    "#### The operator $e^{-i\\delta_t\\hat{\\mathcal{H}}_{i,i+1}}$ can be constructed as follows."
   ]
  },
  {
   "cell_type": "code",
   "execution_count": 6,
   "id": "3d7ecbd5-e2f5-4ee0-8d7e-9e5902ea8c3c",
   "metadata": {},
   "outputs": [],
   "source": [
    "# Define time-evolution (two-site) gates\n",
    "def get_gates (Nsites, dt, J, hz, imag=False):\n",
    "    if not imag:\n",
    "        dt *= 1j\n",
    "    \n",
    "    # Define two-site operators\n",
    "    Sxx = cytnx.linalg.Kron(Sx,Sx)                             # Sx.Sx\n",
    "    Sz1 = cytnx.linalg.Kron(Sz,I)                              # Sz.I\n",
    "    Sz2 = cytnx.linalg.Kron(Sz,I) + cytnx.linalg.Kron(I,Sz)    # Sz.Sz\n",
    "    \n",
    "    gates = []\n",
    "    for i in range(Nsites-1):\n",
    "        # Define two-site Hamiltonian H_{i,i+1}\n",
    "        if i != Nsites-2:\n",
    "            H = -hz*Sz1 - J*Sxx                          # Not the last link\n",
    "        else:\n",
    "            H = -hz*Sz2 - J*Sxx                          # The last link\n",
    "        # Compute exp(H_{i,i+1})\n",
    "        \n",
    "        # expH = sp.linalg.expm(-dt*H.numpy())         # Do the exp(-i*dt*H) by first convert H to a numpy array\n",
    "        # expH = cytnx.from_numpy(expH)                    # Convert exp(-i*dt*H) to a Cytnx matrix\n",
    "        expH = cytnx.linalg.ExpM(-dt*H);                 # Do the exp(-i*dt*H) by Cytnx\n",
    "        expH.reshape_(2,2,2,2)                           # Reshape it to a two-site gate (with 4 indices)\n",
    "        expH = cytnx.UniTensor(expH, rowrank=2)         # Convert it to a UniTensor\n",
    "        gates.append(expH)                              # Store the gate\n",
    "    return gates"
   ]
  },
  {
   "cell_type": "markdown",
   "id": "f8bacf82-cbc5-4b29-875c-6bf66a0e9a32",
   "metadata": {
    "tags": []
   },
   "source": [
    "### 1.3 Define the operation of applying a gate"
   ]
  },
  {
   "cell_type": "code",
   "execution_count": 7,
   "id": "f094a5e2-93f2-4600-ae71-3bdeb738c8c0",
   "metadata": {},
   "outputs": [],
   "source": [
    "def evolve_psi (expH, psi):\n",
    "    # Define the network for the contraction\n",
    "    anet = cytnx.Network()\n",
    "    anet.FromString([\"expH: 0,1,-4,-5\",\n",
    "                     \"psi: 2,0,1,3\",\n",
    "                     \"TOUT: 2,-4;-5,3\"])\n",
    "\n",
    "    anet.PutUniTensors([\"expH\",\"psi\"], [expH, psi])\n",
    "    lbl = psi.labels()\n",
    "    evolved_psi = anet.Launch()\n",
    "    evolved_psi.set_labels(lbl)\n",
    "    return evolved_psi"
   ]
  },
  {
   "cell_type": "markdown",
   "id": "15d2b044-ce18-4b44-8214-dfade8f93cf0",
   "metadata": {
    "tags": []
   },
   "source": [
    "## 2. Initialize MPS"
   ]
  },
  {
   "cell_type": "markdown",
   "id": "642e5590-b38e-4e62-b3d2-33b8c14a7b87",
   "metadata": {
    "tags": []
   },
   "source": [
    "### 2.1 Initialize MPS as a product state\n",
    "### $$ |\\psi\\rangle = |\\uparrow\\uparrow\\uparrow\\uparrow\\cdots\\downarrow\\downarrow\\downarrow\\downarrow\\cdots\\rangle$$"
   ]
  },
  {
   "cell_type": "code",
   "execution_count": 9,
   "id": "68a2ddfc-9118-4b4d-bb6c-7abcb06e4b81",
   "metadata": {},
   "outputs": [],
   "source": [
    "# Initialize MPS\n",
    "def get_init_MPS (Nsites):\n",
    "    d = 2                                          # Physical dimension\n",
    "    psi = [None for i in range(Nsites)]\n",
    "    for i in range(Nsites):\n",
    "        A = cytnx.zeros([1,d,1])\n",
    "        if i < Nsites//2:\n",
    "            A[0,1,0] = 1\n",
    "        else:\n",
    "            A[0,0,0] = 1\n",
    "        psi[i] = cytnx.UniTensor (A, rowrank=2)\n",
    "        psi[i].set_labels([str(2*i),str(2*i+1),str(2*i+2)])\n",
    "    return psi"
   ]
  },
  {
   "cell_type": "markdown",
   "id": "79ad3ae3-9cc6-42ff-bc37-b0f2b5b3b511",
   "metadata": {
    "tags": []
   },
   "source": [
    "## 3. Define functions for measurements"
   ]
  },
  {
   "cell_type": "markdown",
   "id": "0ae70ae1-6732-456d-bba4-940dfb6dc917",
   "metadata": {
    "tags": []
   },
   "source": [
    "### 3.1 On-site measurements\n",
    "<img src=\"figures/one_site_mea.png\" alt=\"drawing\" width=\"500\"/>"
   ]
  },
  {
   "cell_type": "code",
   "execution_count": 10,
   "id": "58f04054-bae8-475a-b6a2-fbbbdfd0928f",
   "metadata": {},
   "outputs": [],
   "source": [
    "# Measure the on-site operator <op>\n",
    "# The input MPS tensor <A> must be the orthogonality-center tensor\n",
    "def measure_onsite (A, op):\n",
    "    Op = cytnx.UniTensor (op, rowrank=1)\n",
    "\n",
    "    anet = cytnx.Network()\n",
    "    anet.FromString([\"A: 1,2,3\",\n",
    "                     \"Z: 2,4\",\n",
    "                     \"Aconj: 1,4,3\",\n",
    "                     \"TOUT:;\"])\n",
    "    anet.PutUniTensors ([\"Z\",\"A\",\"Aconj\"],[Op, A, A.Conj()])\n",
    "    obs = anet.Launch().get_block().item()\n",
    "    if type(obs) == complex:\n",
    "        obs = obs.real\n",
    "    return obs"
   ]
  },
  {
   "cell_type": "markdown",
   "id": "df79a318-2122-4ef7-bb5c-acf8af4b8c4b",
   "metadata": {
    "tags": []
   },
   "source": [
    "### 3.2 Two-site measurements\n",
    "<img src=\"figures/two_site_mea.png\" alt=\"drawing\" width=\"600\"/>"
   ]
  },
  {
   "cell_type": "code",
   "execution_count": 11,
   "id": "c3355514-8702-436e-b60f-ce3c59408899",
   "metadata": {},
   "outputs": [],
   "source": [
    "# Measure the on-site operator <op>\n",
    "# One of the input MPS tensor <A1> or <A2> must be the orthogonality-center tensor\n",
    "def measure_twosite (A1, A2, op):\n",
    "    Op = cytnx.UniTensor (op, rowrank=1)\n",
    "\n",
    "    anet = cytnx.Network()\n",
    "    anet.FromString([\"AA: 1,2,3,4\",\\\n",
    "                     \"O: 2,3,5,6\",\\\n",
    "                     \"AA_Conj: 1,5,6,4\",\\\n",
    "                     \"TOUT:;\"])\n",
    "    AA = cytnx.Contract(A1,A2)\n",
    "    AA_Conj = cytnx.Contract(A1.Conj(),A2.Conj())\n",
    "    anet.PutUniTensors([\"AA\",\"O\",\"AA_Conj\"],[AA, op, AA_Conj])\n",
    "    obs = anet.Launch().get_block().real().item()\n",
    "    \n",
    "    # anet = cytnx.Network()\n",
    "    # anet.FromString([\"AA: 1,2,3,4\",\\\n",
    "    #                  \"AA_Conj: 1,2,3,4\",\\\n",
    "    #                  \"TOUT:\"])\n",
    "    # anet.PutUniTensors([\"AA\", \"AA_Conj\"],[AA, AA_Conj])\n",
    "    # AAnorm = anet.Launch().get_block().item()\n",
    "    \n",
    "    # obs /= AAnorm # for safety, while AAnorm should be ~1\n",
    "    if type(obs) == complex:\n",
    "        obs = obs.real\n",
    "    return obs"
   ]
  },
  {
   "cell_type": "markdown",
   "id": "cd150cf7-7a67-4ff6-a7bc-77df322fe74e",
   "metadata": {
    "tags": []
   },
   "source": [
    "### 3.3 Global measurement $\\langle\\psi|\\hat{H}|\\psi\\rangle$\n",
    "<img src=\"figures/total_mea.png\" alt=\"drawing\" width=\"500\"/>"
   ]
  },
  {
   "cell_type": "code",
   "execution_count": 12,
   "id": "7ab98a5d-fadf-4928-b672-b0f4b6a64199",
   "metadata": {},
   "outputs": [],
   "source": [
    "# Measure <psi|H|psi>, where psi and H are an MPS and an MPO\n",
    "# A: An array of MPS tensors\n",
    "# M: A MPO tensor\n",
    "def getTotalE (A, M):\n",
    "    D_MPO = M.shape()[0]                                        # MPO bond dimension\n",
    "    L = cytnx.UniTensor (cytnx.zeros([D_MPO,1,1]), rowrank=1)   # Left boundary\n",
    "    L.get_block_()[D_MPO-1,0,0] = 1.\n",
    "    R0 = cytnx.UniTensor (cytnx.zeros([D_MPO,1,1]), rowrank=1)  # Right boundary\n",
    "    R0.get_block_()[0,0,0] = 1.\n",
    "\n",
    "    anet = cytnx.Network()\n",
    "    anet.FromString([\"L: -2,-1,-3\",\n",
    "                     \"A: -1,-4,1\",\n",
    "                     \"M: -2,0,-4,-5\",\n",
    "                     \"A_Conj: -3,-5,2\",\n",
    "                     \"TOUT: 0;1,2\"])\n",
    "    # Contract the tensors from left to right\n",
    "    for p in range(Nsites):\n",
    "        A[p].set_rowrank_(2)\n",
    "        anet.PutUniTensors([\"L\",\"A\",\"A_Conj\",\"M\"],[L,A[p],A[p].Conj(),M])\n",
    "        L = anet.Launch()\n",
    "    # Contract with the right boundary tensor to get the energy\n",
    "    anet = cytnx.Network()\n",
    "    anet.FromString([\"L: -2,-1,-3\",\n",
    "                     \"R0: -2,-1,-3\",\n",
    "                     \"TOUT:;\"])\n",
    "    anet.PutUniTensors([\"L\",\"R0\"],[L,R0])\n",
    "    E = anet.Launch().get_block().item()\n",
    "    if type(E) == complex:\n",
    "        E = E.real\n",
    "    return E"
   ]
  },
  {
   "cell_type": "markdown",
   "id": "cb26f149-f7b3-4ad7-86f1-c2c310b5aef8",
   "metadata": {
    "tags": []
   },
   "source": [
    "### 3.4 Define Hamiltonian MPO\n",
    "#### (Just for measuring energy)"
   ]
  },
  {
   "cell_type": "code",
   "execution_count": 13,
   "id": "8d49c330-eb12-431d-8871-c1b8e32115d5",
   "metadata": {},
   "outputs": [],
   "source": [
    "# Define TFIM MPO\n",
    "def TFIM_MPO_tensor (J, hz, hx):\n",
    "    d = 2                                      # Physical dimension\n",
    "    dM = 3                                     # MPO bond dimension\n",
    "    M = cytnx.zeros([dM, dM, d, d])\n",
    "    M[0,0] = I\n",
    "    M[2,2] = I\n",
    "    M[1,0] = Sx\n",
    "    M[2,1] = -J*Sx\n",
    "    M[2,0] = -hz*Sz - hx*Sx\n",
    "    M = cytnx.UniTensor (M, rowrank=2)\n",
    "    return M"
   ]
  },
  {
   "cell_type": "markdown",
   "id": "2e4bd922-1bdd-4082-a001-bceeafe5e3e0",
   "metadata": {
    "tags": []
   },
   "source": [
    "## 4. Define TEBD loop"
   ]
  },
  {
   "cell_type": "markdown",
   "id": "30992684-0454-4869-ad2b-021be7cdb701",
   "metadata": {},
   "source": [
    "#### (Right to left)\n",
    "<img src=\"figures/tebd_sweep.png\" alt=\"drawing\" width=\"700\"/>"
   ]
  },
  {
   "cell_type": "code",
   "execution_count": 14,
   "id": "55d773e3-a3fd-42c1-a2d1-6628812e7cf9",
   "metadata": {},
   "outputs": [],
   "source": [
    "def tebd (psi, J, hz, dt, steps, maxdim, cutoff, imag_time=False):\n",
    "    # Parameters\n",
    "    # psi:        Initial MPS\n",
    "    # J:          Sx.Sx coupling\n",
    "    # hz:         Transverse field\n",
    "    # dt:         Time step\n",
    "    # steps:      Number of time steps\n",
    "    # maxdim:     Maximal kept dimension when doing SVD\n",
    "    # cutoff:     Cutoff for the singular values when doing SVD\n",
    "    # imag_time:  Real or imaginary time evolution\n",
    "\n",
    "    # Define the bonds for left-to-right and right-to-left sweeps\n",
    "    sweeps_bonds = [range(Nsites-1), range(Nsites-2,-1,-1)]\n",
    "\n",
    "    # Get the time-evolution gates\n",
    "    expHs = get_gates (Nsites, dt, J, hz, imag=imag_time)\n",
    "\n",
    "    # Make MPO tensor (for measuring the total energy)\n",
    "    M = TFIM_MPO_tensor (J, hz, hx=0)\n",
    "\n",
    "    # To store the on-site observables\n",
    "    szs = np.full ((steps,Nsites),np.nan)\n",
    "    sxs = np.full ((steps,Nsites),np.nan)\n",
    "    maxdims = np.full (steps,np.nan)\n",
    "    \n",
    "    # TEBD sweeps\n",
    "    for step in range(steps):\n",
    "        print ('step',step,end=\"\")\n",
    "        for lr in [0,1]:\n",
    "            for p in sweeps_bonds[lr]:\n",
    "                \n",
    "                # Compute psi for the bond\n",
    "                AA = cytnx.Contract (psi[p], psi[p+1])\n",
    "                AA.set_rowrank_(2)\n",
    "                # print('AA.labels()=',AA.labels())\n",
    "                # Apply gate to psi\n",
    "                evolved_psi = evolve_psi (expHs[p], AA)\n",
    "\n",
    "                # SVD and truncate psi to MPS tensors\n",
    "                s, psi[p], psi[p+1] = cytnx.linalg.Svd_truncate (evolved_psi, keepdim=maxdim, err=cutoff)\n",
    "                # Normalize the singular values\n",
    "                s = s/s.get_block_().Norm().item()\n",
    "                \n",
    "                s.relabels_([\"_aux_L\"+str(p),\"_aux_R\"+str(p+1)])\n",
    "                psi[p].relabel_(\"_aux_L\",\"_aux_L\"+str(p))\n",
    "                psi[p+1].relabel_(\"_aux_R\",\"_aux_R\"+str(p+1))\n",
    "                \n",
    "                # Absorb the singular-value tensor into the left/right site\n",
    "                if lr == 0:\n",
    "                    psi[p+1] = cytnx.Contract (s,psi[p+1])\n",
    "                else:\n",
    "                    psi[p] = cytnx.Contract (psi[p],s)\n",
    "\n",
    "                # Measure\n",
    "                if lr == 0 and p == Nsites-2:\n",
    "                    A = psi[Nsites-1]\n",
    "                    A.set_rowrank(2)\n",
    "                    szs[step,Nsites-1] = measure_onsite (A, Sz)\n",
    "                    sxs[step,Nsites-1] = measure_onsite (A, Sx)\n",
    "                if lr == 1:\n",
    "                    szs[step,p] = measure_onsite (psi[p], Sz)\n",
    "                    sxs[step,p] = measure_onsite (psi[p], Sx)\n",
    "        # Compute the maximal bond dimension for the MPS\n",
    "        maxm = 0\n",
    "        for p in range(Nsites):\n",
    "            maxm = max(psi[p].shape()[0], psi[p].shape()[2], maxm)\n",
    "        maxdims[step] = maxm\n",
    "        print (', max dim='+str(maxm),end=\"\")\n",
    "\n",
    "        # Compute the total energy\n",
    "        print (\", total E=\", getTotalE (psi,M))\n",
    "    return psi, szs, sxs, maxdims"
   ]
  },
  {
   "cell_type": "markdown",
   "id": "70af78c0-38fc-4d23-95b7-6dd8eb08e1c5",
   "metadata": {
    "tags": []
   },
   "source": [
    "## 5. Compute the ground state by imaginary time evolution\n",
    "#### (Compare with DMRG)"
   ]
  },
  {
   "cell_type": "code",
   "execution_count": 16,
   "id": "2a36f17b-3258-4375-8721-39d831f773f9",
   "metadata": {},
   "outputs": [
    {
     "name": "stdout",
     "output_type": "stream",
     "text": [
      "step 0, max dim=4, total E= -14.651366920391323\n",
      "step 1, max dim=6, total E= -19.27787639443965\n",
      "step 2, max dim=8, total E= -20.037975377301105\n",
      "step 3, max dim=8, total E= -20.24846136247698\n",
      "step 4, max dim=8, total E= -20.331062249025706\n",
      "step 5, max dim=10, total E= -20.366512991683532\n",
      "step 6, max dim=10, total E= -20.38189414805842\n",
      "step 7, max dim=10, total E= -20.388551151835564\n",
      "step 8, max dim=10, total E= -20.39142392615694\n",
      "step 9, max dim=10, total E= -20.392660897800855\n"
     ]
    }
   ],
   "source": [
    "Nsites = 20                                   # Number of sites\n",
    "dt = 0.2\n",
    "\n",
    "psi = get_init_MPS (Nsites)\n",
    "psi, szs, sxs, dims = tebd (psi, J=1, hz=0.5, dt=dt, steps=10, maxdim=200, cutoff=1e-6, imag_time=True)"
   ]
  },
  {
   "cell_type": "markdown",
   "id": "c5378f7e-6c33-445c-b3f5-420cbcf36d0d",
   "metadata": {
    "tags": []
   },
   "source": [
    "## 6. Compute time-evolved state by real-time evolution"
   ]
  },
  {
   "cell_type": "markdown",
   "id": "2890aa9c-2f9a-47fb-9e44-daf1da69c338",
   "metadata": {},
   "source": [
    "### 6.1 Compute time evolution"
   ]
  },
  {
   "cell_type": "code",
   "execution_count": 17,
   "id": "fdf9f168-bc01-428f-803b-55f913674efd",
   "metadata": {},
   "outputs": [
    {
     "name": "stdout",
     "output_type": "stream",
     "text": [
      "step 0, max dim=4, total E= 0.010538643249357355\n",
      "step 1, max dim=5, total E= 0.005818830222893055\n",
      "step 2, max dim=6, total E= 0.0009888972273115132\n",
      "step 3, max dim=6, total E= 0.01421099457737951\n",
      "step 4, max dim=8, total E= 8.417728877402157e-05\n",
      "step 5, max dim=8, total E= 0.004612757347965509\n",
      "step 6, max dim=8, total E= 0.01548528652959396\n",
      "step 7, max dim=9, total E= -0.0054677648450179046\n",
      "step 8, max dim=10, total E= 0.01094092480084665\n",
      "step 9, max dim=10, total E= 0.012469978322382703\n",
      "step 10, max dim=11, total E= -0.007734318955054448\n",
      "step 11, max dim=12, total E= 0.017197387799022017\n",
      "step 12, max dim=13, total E= 0.005968819179718459\n",
      "step 13, max dim=15, total E= -0.004858858073850197\n",
      "step 14, max dim=15, total E= 0.019611247909489003\n",
      "step 15, max dim=15, total E= -0.00020005343997780804\n",
      "step 16, max dim=16, total E= 0.0012470038219327476\n",
      "step 17, max dim=16, total E= 0.017241943805283204\n",
      "step 18, max dim=18, total E= -0.002816970296438617\n",
      "step 19, max dim=19, total E= 0.006838963597798727\n",
      "step 20, max dim=21, total E= 0.012468090901342462\n",
      "step 21, max dim=21, total E= -0.0018784412098067373\n",
      "step 22, max dim=22, total E= 0.009898170584469318\n",
      "step 23, max dim=24, total E= 0.007971656552064096\n",
      "step 24, max dim=24, total E= 0.0007543587057118847\n",
      "step 25, max dim=26, total E= 0.010730557415604232\n",
      "step 26, max dim=27, total E= 0.004724397230567926\n",
      "step 27, max dim=28, total E= 0.003769875765016434\n",
      "step 28, max dim=29, total E= 0.010101822696088242\n",
      "step 29, max dim=32, total E= 0.0027934271831360816\n",
      "step 30, max dim=32, total E= 0.006628712117821318\n",
      "step 31, max dim=34, total E= 0.008380830711729327\n",
      "step 32, max dim=34, total E= 0.002375565747535371\n",
      "step 33, max dim=38, total E= 0.008665118267423493\n",
      "step 34, max dim=40, total E= 0.006203829818497808\n",
      "step 35, max dim=42, total E= 0.0033659734288807985\n",
      "step 36, max dim=42, total E= 0.009297094308079124\n",
      "step 37, max dim=44, total E= 0.004547419996103345\n",
      "step 38, max dim=45, total E= 0.004953339894039405\n",
      "step 39, max dim=46, total E= 0.008744797770245807\n"
     ]
    }
   ],
   "source": [
    "dt = 0.05\n",
    "\n",
    "psi = get_init_MPS (Nsites)\n",
    "psi, szs, sxs, dims = tebd (psi, J=1, hz=10, dt=dt, steps=40, maxdim=200, cutoff=1e-6)"
   ]
  },
  {
   "cell_type": "markdown",
   "id": "f31ca7e3-3f89-43ba-b8d5-377d58a8ccc1",
   "metadata": {},
   "source": [
    "### 6.2 Plot the results"
   ]
  },
  {
   "cell_type": "code",
   "execution_count": 18,
   "id": "4ff16f7e-7a87-4d7d-b382-573ce276f4ad",
   "metadata": {},
   "outputs": [
    {
     "ename": "",
     "evalue": "",
     "output_type": "error",
     "traceback": [
      "\u001b[1;31m無法執行程式碼，已處置工作階段。請嘗試重新啟動核心。"
     ]
    },
    {
     "ename": "",
     "evalue": "",
     "output_type": "error",
     "traceback": [
      "\u001b[1;31m在目前儲存格或上一個儲存格中執行程式碼時，Kernel 已損毀。請檢閱儲存格中的程式碼，找出失敗的可能原因。如需詳細資訊，請按一下<a href='https://aka.ms/vscodeJupyterKernelCrash'>這裡</a>。檢視 Jupyter <a href='command:jupyter.viewOutput'>記錄</a>，以取得進一步的詳細資料。"
     ]
    }
   ],
   "source": [
    "# Funtion for printing an observable as a function of time and site\n",
    "def plot_prof (ax, data, dt, label=''):\n",
    "    Nstep, L = np.shape(data)\n",
    "    sc = ax.imshow (data, origin='lower', extent=[1, L, dt, Nstep*dt], aspect='auto')\n",
    "    cb = plt.colorbar (sc)\n",
    "    ax.set_xlabel ('Site', fontsize=18)\n",
    "    ax.set_ylabel ('Time', fontsize=18)\n",
    "    cb.ax.set_ylabel (label, fontsize=18)\n",
    "f,ax = plt.subplots()\n",
    "plot_prof (ax, szs, dt, label='$S_z$')\n",
    "plt.show()"
   ]
  },
  {
   "cell_type": "markdown",
   "id": "1014815d-00bb-435f-b217-687e6f63dcd8",
   "metadata": {},
   "source": [
    "## Homework 1.\n",
    "Try simulating the real time evolution of the TFIM Hamitonian with $h_z = 0$ and $h_z = 0.5$, record the **entanglement entropy** during the evolution and **plot it as a function of time**."
   ]
  },
  {
   "cell_type": "code",
   "execution_count": null,
   "id": "2c2bbc92-5e19-49db-8e33-16175fdec88e",
   "metadata": {},
   "outputs": [],
   "source": []
  },
  {
   "cell_type": "markdown",
   "id": "6247b6e1-27e7-4b87-be93-032e63575123",
   "metadata": {},
   "source": [
    "## Homework 2.\n",
    "Instead of the domain wall product state\n",
    "$$ |\\psi\\rangle = |\\uparrow\\uparrow\\uparrow\\uparrow\\cdots\\downarrow\\downarrow\\downarrow\\downarrow\\cdots\\rangle$$\n",
    "Try using the TFIM Hamiltonian with arbitary $h_z$ to evolve a **\"local defect\"** product state:\n",
    "$$ |\\psi\\rangle = |\\cdots\\uparrow\\uparrow\\uparrow\\uparrow\\downarrow\\uparrow\\uparrow\\uparrow\\uparrow\\cdots\\rangle$$\n",
    "(which is a all spin up state with the spin in the center flipped)  \n",
    "**Plot the result of $\\langle S_z \\rangle$ as a function of time and sites.**\n"
   ]
  },
  {
   "cell_type": "code",
   "execution_count": null,
   "id": "63c6fd5b-a529-49c9-b60e-866047faf088",
   "metadata": {},
   "outputs": [],
   "source": []
  },
  {
   "cell_type": "markdown",
   "id": "8dd09319-daeb-40dc-b3a9-eaa33a7a3b92",
   "metadata": {},
   "source": [
    "## Homework 3.\n",
    "Start with the groundstate of TFIM Hamiltonian at $h_z = 10$, perform the real time evolution with $h_z = 3$ and plot the $\\langle S_z(t) \\rangle$ (you average all the sites), see if you can reproduce an **oscillating curve**.\n",
    "\n"
   ]
  },
  {
   "cell_type": "code",
   "execution_count": null,
   "id": "22b5c7f0-c9d6-4613-9612-4dc95ea0e8a4",
   "metadata": {},
   "outputs": [],
   "source": []
  }
 ],
 "metadata": {
  "kernelspec": {
   "display_name": "Python 3 (ipykernel)",
   "language": "python",
   "name": "python3"
  },
  "language_info": {
   "codemirror_mode": {
    "name": "ipython",
    "version": 3
   },
   "file_extension": ".py",
   "mimetype": "text/x-python",
   "name": "python",
   "nbconvert_exporter": "python",
   "pygments_lexer": "ipython3",
   "version": "3.9.16"
  }
 },
 "nbformat": 4,
 "nbformat_minor": 5
}
